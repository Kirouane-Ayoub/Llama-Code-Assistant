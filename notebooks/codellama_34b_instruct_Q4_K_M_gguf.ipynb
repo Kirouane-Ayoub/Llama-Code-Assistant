{
  "nbformat": 4,
  "nbformat_minor": 0,
  "metadata": {
    "colab": {
      "provenance": []
    },
    "kernelspec": {
      "name": "python3",
      "display_name": "Python 3"
    },
    "language_info": {
      "name": "python"
    }
  },
  "cells": [
    {
      "cell_type": "code",
      "execution_count": null,
      "metadata": {
        "id": "WHh0_zIE5uIx"
      },
      "outputs": [],
      "source": [
        "! pip install ctransformers  langchain"
      ]
    },
    {
      "cell_type": "code",
      "source": [
        "! wget https://huggingface.co/TheBloke/CodeLlama-34B-Instruct-GGUF/resolve/main/codellama-34b-instruct.Q4_K_M.gguf"
      ],
      "metadata": {
        "id": "j3Mjg2P26aPc"
      },
      "execution_count": null,
      "outputs": []
    },
    {
      "cell_type": "code",
      "source": [
        "from langchain.llms import CTransformers\n",
        "from langchain.chains import LLMChain\n",
        "from langchain import PromptTemplate"
      ],
      "metadata": {
        "id": "zNjI_sM0CD8i"
      },
      "execution_count": null,
      "outputs": []
    },
    {
      "cell_type": "code",
      "source": [
        "#load the model\n",
        "llm = CTransformers(\n",
        "    model = \"codellama-34b-instruct.Q4_K_M.gguf\",\n",
        "    config={'max_new_tokens':512,\"temperature\":0.3}\n",
        ")"
      ],
      "metadata": {
        "id": "vn7gJ4dz53HM"
      },
      "execution_count": 5,
      "outputs": []
    },
    {
      "cell_type": "code",
      "source": [
        "#create template\n",
        "prompt_template = \"\"\"\n",
        "You are an Expert AI Coding Assistant tasked with solving coding problems\n",
        "and providing code snippets based on the user's query.\n",
        "Query: {query}\n",
        "\n",
        "Here's a helpful code snippet:\n",
        "\"\"\""
      ],
      "metadata": {
        "id": "P5WobggdB__X"
      },
      "execution_count": null,
      "outputs": []
    },
    {
      "cell_type": "code",
      "source": [
        "prompt = PromptTemplate(template=prompt_template,input_variables=['query'])\n",
        "chain = LLMChain(prompt=prompt ,llm=llm)"
      ],
      "metadata": {
        "id": "-uYi8IIC9VXw"
      },
      "execution_count": 6,
      "outputs": []
    },
    {
      "cell_type": "code",
      "source": [
        "while 1 :\n",
        "  query = input(\">>>\")\n",
        "  response = chain.run({'query':query})\n",
        "  print(response)"
      ],
      "metadata": {
        "id": "wUBSG6K79XtK"
      },
      "execution_count": null,
      "outputs": []
    }
  ]
}